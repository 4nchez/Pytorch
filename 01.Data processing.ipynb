{
 "cells": [
  {
   "cell_type": "code",
   "execution_count": 2,
   "metadata": {},
   "outputs": [],
   "source": [
    "import torch\n",
    "import torchvision\n",
    "import torchvision.transforms as tr\n",
    "from torch.utils.data import DataLoader, Dataset\n",
    "import numpy as np"
   ]
  },
  {
   "cell_type": "markdown",
   "metadata": {},
   "source": [
    "# 1. 파이토치 제공 데이터 사용"
   ]
  },
  {
   "cell_type": "code",
   "execution_count": 3,
   "metadata": {},
   "outputs": [],
   "source": [
    "transf =tr.Compose([tr.Resize(8), tr.ToTensor()])\n",
    "#데이터 전처리 부분\n",
    "#데이터를 8x8, Tensor로바꿔줌\n",
    "#PIL이미지의 경우만 사용가능"
   ]
  },
  {
   "cell_type": "code",
   "execution_count": 4,
   "metadata": {},
   "outputs": [
    {
     "name": "stdout",
     "output_type": "stream",
     "text": [
      "Files already downloaded and verified\n",
      "Files already downloaded and verified\n"
     ]
    }
   ],
   "source": [
    "trainset = torchvision.datasets.CIFAR10(root='./data', train=True, download=True, transform=transf)\n",
    "testset = torchvision.datasets.CIFAR10(root='./data', train=False, download=True, transform=transf)"
   ]
  },
  {
   "cell_type": "code",
   "execution_count": 5,
   "metadata": {},
   "outputs": [
    {
     "data": {
      "text/plain": [
       "torch.Size([3, 8, 8])"
      ]
     },
     "execution_count": 5,
     "metadata": {},
     "output_type": "execute_result"
    }
   ],
   "source": [
    "#채널수가 먼저\n",
    "trainset[0][0].size()"
   ]
  },
  {
   "cell_type": "code",
   "execution_count": 6,
   "metadata": {},
   "outputs": [],
   "source": [
    "trainloader =DataLoader(trainset, batch_size=50, shuffle=True, num_workers=2)\n",
    "testloader =DataLoader(testset, batch_size=50, shuffle=True, num_workers=2)"
   ]
  },
  {
   "cell_type": "code",
   "execution_count": 7,
   "metadata": {},
   "outputs": [
    {
     "data": {
      "text/plain": [
       "1000"
      ]
     },
     "execution_count": 7,
     "metadata": {},
     "output_type": "execute_result"
    }
   ],
   "source": [
    "#5만개의 train 데이터를 batch_size(50)에 맞게 짜름\n",
    "len(trainloader)"
   ]
  },
  {
   "cell_type": "code",
   "execution_count": 8,
   "metadata": {},
   "outputs": [],
   "source": [
    "dataiter = iter(trainloader)\n",
    "images, labels = dataiter.next() #한 묶음 불러옴"
   ]
  },
  {
   "cell_type": "code",
   "execution_count": 9,
   "metadata": {},
   "outputs": [
    {
     "data": {
      "text/plain": [
       "torch.Size([50, 3, 8, 8])"
      ]
     },
     "execution_count": 9,
     "metadata": {},
     "output_type": "execute_result"
    }
   ],
   "source": [
    "images.size() #배치사이즈, 채널, 이미지 사이즈"
   ]
  },
  {
   "cell_type": "markdown",
   "metadata": {},
   "source": [
    "# 2. 같은 클래스 별 폴더 이미지 데이터 이용"
   ]
  },
  {
   "cell_type": "code",
   "execution_count": null,
   "metadata": {},
   "outputs": [],
   "source": [
    "# ./class/dogs  ./class/cats Labeling이 잘 되어 있는 경우\n",
    "transf =tr.Compose([tr.Resize(16), tr.ToTensor()])\n",
    "trainset = torchvision.datasets.ImageFolder(root='./class',transform=transf) #ImageFolder는 각 폴더에 대해 labeling이 됨\n",
    "trainloader =DataLoader(trainset, batch_size=10, shuffle=False, num_workers=2)"
   ]
  },
  {
   "cell_type": "code",
   "execution_count": null,
   "metadata": {},
   "outputs": [],
   "source": [
    "trainset[0][0].size()"
   ]
  },
  {
   "cell_type": "markdown",
   "metadata": {},
   "source": [
    "# 3.개인 데이터 사용(2 types)"
   ]
  },
  {
   "cell_type": "code",
   "execution_count": 3,
   "metadata": {},
   "outputs": [
    {
     "name": "stdout",
     "output_type": "stream",
     "text": [
      "(20, 32, 32, 3) (20, 1)\n"
     ]
    }
   ],
   "source": [
    "#import preprocessing\n",
    "\n",
    "train_images = np.random.randint(256, size=(20,32,32,3))\n",
    "train_labels = np.random.randint(2, size=(20,1))\n",
    "\n",
    "#preprocessing....\n",
    "#train_images, train_labels - preprocessing(train_images, train_labels)\n",
    "\n",
    "print(train_images.shape, train_labels.shape)"
   ]
  },
  {
   "cell_type": "code",
   "execution_count": 11,
   "metadata": {},
   "outputs": [],
   "source": [
    "class TensorData(Dataset):\n",
    "    \n",
    "    def __init__(self, x_data, y_data):\n",
    "        self.x_data = torch.FloatTensor(x_data)\n",
    "        self.x_data = self.x_data.permute(0,3,1,2) # 이미지 개수, 채널 수, 이미지 너비, 높이 로 순서 바꿈\n",
    "        self.y_data = torch.LongTensor(y_data)\n",
    "        self.len = self.y_data.shape[0]\n",
    "        \n",
    "    def __getitem__(self, index):\n",
    "        return self.x_data[index], self.y_data[index]\n",
    "    \n",
    "    def __len__(self):\n",
    "        return self.len"
   ]
  },
  {
   "cell_type": "code",
   "execution_count": 12,
   "metadata": {},
   "outputs": [],
   "source": [
    "train_data = TensorData(train_images, train_labels)\n",
    "train_loader =DataLoader(train_data, batch_size=10, shuffle=True)"
   ]
  },
  {
   "cell_type": "code",
   "execution_count": 13,
   "metadata": {},
   "outputs": [
    {
     "data": {
      "text/plain": [
       "torch.Size([3, 32, 32])"
      ]
     },
     "execution_count": 13,
     "metadata": {},
     "output_type": "execute_result"
    }
   ],
   "source": [
    "train_data[0][0].size()"
   ]
  },
  {
   "cell_type": "code",
   "execution_count": 14,
   "metadata": {},
   "outputs": [],
   "source": [
    "dataiter = iter(train_loader)\n",
    "images, labels = dataiter.next() #한 묶음 불러옴"
   ]
  },
  {
   "cell_type": "code",
   "execution_count": 15,
   "metadata": {},
   "outputs": [
    {
     "data": {
      "text/plain": [
       "torch.Size([10, 3, 32, 32])"
      ]
     },
     "execution_count": 15,
     "metadata": {},
     "output_type": "execute_result"
    }
   ],
   "source": [
    "images.size() #배치사이즈, 채널, 이미지 사이즈"
   ]
  },
  {
   "cell_type": "markdown",
   "metadata": {},
   "source": [
    "#####class 별로 안나눠 져 있는 경우\n",
    "\n",
    "from torch.utils.data import Dataset\n",
    "\n",
    "class MyDataset(Dataset):\n",
    "    \n",
    "    def __init__(self):\n",
    "    \n",
    "    def __getitem__(self, index):\n",
    "    \n",
    "    def __len__(self):"
   ]
  },
  {
   "cell_type": "code",
   "execution_count": 13,
   "metadata": {},
   "outputs": [],
   "source": [
    "class MyDataset(Dataset): #데이터를 변환\n",
    "    \n",
    "    def __init__(self, x_data, y_data, transform=None):\n",
    "        self.x_data = x_data\n",
    "        self.y_data = y_data\n",
    "        self.transform = transform\n",
    "        self.len = len(y_data)\n",
    "        \n",
    "    def __getitem__(self, index):\n",
    "        sample = self.x_data[index], self.y_data[index]\n",
    "        \n",
    "        if self.transform:\n",
    "            sample = self.transform(sample)\n",
    "            \n",
    "        return sample #numpy로 나감\n",
    "    \n",
    "    def __len__(self):\n",
    "        return self.len\n",
    "    \n",
    "class ToTensor: #데이터를 Tensor로 변환\n",
    "    \n",
    "    def __call__(self, sample):\n",
    "        inputs, labels = sample\n",
    "        inputs = torch.FloatTensor(inputs)\n",
    "        inputs = inputs.permute(2,0,1)\n",
    "        return inputs, torch.LongTensor(labels)\n",
    "\n",
    "class LinearTensor: #데이터 연산\n",
    "    \n",
    "    def __init__(self, slope=1, bias=0):\n",
    "        self.slope = slope\n",
    "        self.bias = bias\n",
    "        \n",
    "    def __call__(self, sample):\n",
    "        inputs, labels = sample\n",
    "        inputs = self.slope*inputs + self.bias\n",
    "        \n",
    "        return inputs, labels"
   ]
  },
  {
   "cell_type": "code",
   "execution_count": 14,
   "metadata": {},
   "outputs": [
    {
     "name": "stdout",
     "output_type": "stream",
     "text": [
      "<class 'numpy.ndarray'>\n"
     ]
    }
   ],
   "source": [
    "first_data = train_images[0]\n",
    "features = first_data\n",
    "print(type(features))"
   ]
  },
  {
   "cell_type": "code",
   "execution_count": 15,
   "metadata": {},
   "outputs": [],
   "source": [
    "trans = tr.Compose([ToTensor(), LinearTensor(2,5)])\n",
    "ds1 = MyDataset(train_images, train_labels, transform=trans)\n",
    "train_loader1 = DataLoader(ds1, batch_size=10, shuffle=True)"
   ]
  },
  {
   "cell_type": "code",
   "execution_count": 16,
   "metadata": {},
   "outputs": [
    {
     "ename": "NameError",
     "evalue": "name 'labels' is not defined",
     "output_type": "error",
     "traceback": [
      "\u001b[1;31m---------------------------------------------------------------------------\u001b[0m",
      "\u001b[1;31mNameError\u001b[0m                                 Traceback (most recent call last)",
      "\u001b[1;32m<ipython-input-16-85bfe8ba9b21>\u001b[0m in \u001b[0;36m<module>\u001b[1;34m\u001b[0m\n\u001b[0;32m      1\u001b[0m \u001b[0mfirst_data\u001b[0m \u001b[1;33m=\u001b[0m \u001b[0mds1\u001b[0m\u001b[1;33m[\u001b[0m\u001b[1;36m0\u001b[0m\u001b[1;33m]\u001b[0m\u001b[1;33m\u001b[0m\u001b[1;33m\u001b[0m\u001b[0m\n\u001b[0;32m      2\u001b[0m \u001b[0mfeatures\u001b[0m\u001b[1;33m,\u001b[0m \u001b[0mlabel\u001b[0m \u001b[1;33m=\u001b[0m \u001b[0mfirst_data\u001b[0m\u001b[1;33m\u001b[0m\u001b[1;33m\u001b[0m\u001b[0m\n\u001b[1;32m----> 3\u001b[1;33m \u001b[0mprint\u001b[0m\u001b[1;33m(\u001b[0m\u001b[0mtype\u001b[0m\u001b[1;33m(\u001b[0m\u001b[0mfeatures\u001b[0m\u001b[1;33m)\u001b[0m\u001b[1;33m,\u001b[0m \u001b[0mtype\u001b[0m\u001b[1;33m(\u001b[0m\u001b[0mlabels\u001b[0m\u001b[1;33m)\u001b[0m\u001b[1;33m)\u001b[0m\u001b[1;33m\u001b[0m\u001b[1;33m\u001b[0m\u001b[0m\n\u001b[0m",
      "\u001b[1;31mNameError\u001b[0m: name 'labels' is not defined"
     ]
    }
   ],
   "source": [
    "first_data = ds1[0]\n",
    "features, label = first_data\n",
    "print(type(features), type(labels))"
   ]
  },
  {
   "cell_type": "code",
   "execution_count": 11,
   "metadata": {},
   "outputs": [],
   "source": [
    "dataiter1 = iter(train_loader1)\n",
    "images1, labels1 = dataiter1.next()"
   ]
  },
  {
   "cell_type": "code",
   "execution_count": 12,
   "metadata": {},
   "outputs": [
    {
     "data": {
      "text/plain": [
       "tensor([[[[201., 239., 483.,  ...,  83., 307., 201.],\n",
       "          [ 97., 339., 497.,  ..., 377., 277.,  99.],\n",
       "          [343., 369.,  17.,  ..., 317., 493., 249.],\n",
       "          ...,\n",
       "          [191., 409., 359.,  ..., 107., 331., 413.],\n",
       "          [  7., 435., 259.,  ...,  57., 187., 255.],\n",
       "          [473., 165., 355.,  ..., 275., 347., 181.]],\n",
       "\n",
       "         [[453., 253., 373.,  ..., 493., 339., 193.],\n",
       "          [335., 407., 161.,  ..., 403., 345., 389.],\n",
       "          [477., 101., 357.,  ..., 249., 355., 287.],\n",
       "          ...,\n",
       "          [ 91., 379., 473.,  ..., 145.,  65., 403.],\n",
       "          [ 81.,  19., 245.,  ..., 487.,  31.,   9.],\n",
       "          [295.,  87.,  21.,  ..., 489., 189., 315.]],\n",
       "\n",
       "         [[429., 113., 169.,  ..., 339., 179., 217.],\n",
       "          [387., 239.,  25.,  ..., 425.,  23.,  57.],\n",
       "          [225., 105., 275.,  ..., 247., 247., 159.],\n",
       "          ...,\n",
       "          [489., 121., 301.,  ...,  15., 237., 255.],\n",
       "          [279., 441., 511.,  ..., 445., 441., 453.],\n",
       "          [ 27., 499., 359.,  ...,  47., 491., 471.]]],\n",
       "\n",
       "\n",
       "        [[[121.,  65.,  99.,  ...,  85., 197., 193.],\n",
       "          [191., 407., 231.,  ..., 117., 489., 193.],\n",
       "          [171., 349., 387.,  ..., 423.,   5., 511.],\n",
       "          ...,\n",
       "          [359., 463., 343.,  ..., 363., 269.,  77.],\n",
       "          [223., 491., 461.,  ...,  37., 435., 109.],\n",
       "          [343., 265.,  49.,  ..., 431.,  83., 251.]],\n",
       "\n",
       "         [[147., 413.,  51.,  ..., 239., 429., 257.],\n",
       "          [ 41., 129., 209.,  ..., 317.,  69.,  31.],\n",
       "          [129., 297.,  31.,  ...,  57., 161., 391.],\n",
       "          ...,\n",
       "          [ 41., 293., 471.,  ...,  15., 387., 515.],\n",
       "          [251., 293., 239.,  ..., 341., 477., 351.],\n",
       "          [213., 439., 241.,  ..., 157., 467., 347.]],\n",
       "\n",
       "         [[373., 211.,  23.,  ..., 413.,  61., 353.],\n",
       "          [375.,  51., 255.,  ..., 319., 191., 325.],\n",
       "          [191., 437., 285.,  ...,  69., 217., 109.],\n",
       "          ...,\n",
       "          [455., 175.,  91.,  ..., 461., 415., 117.],\n",
       "          [269., 455., 241.,  ..., 325., 431., 127.],\n",
       "          [385.,  47., 277.,  ..., 207., 395., 181.]]],\n",
       "\n",
       "\n",
       "        [[[325., 279.,  77.,  ...,  33., 355.,  81.],\n",
       "          [195., 185., 193.,  ..., 417., 369., 423.],\n",
       "          [233., 351.,  75.,  ..., 185., 313., 259.],\n",
       "          ...,\n",
       "          [337., 511., 323.,  ..., 153.,  93., 217.],\n",
       "          [491., 391., 103.,  ..., 193.,  13., 225.],\n",
       "          [119., 119., 125.,  ..., 247., 485., 205.]],\n",
       "\n",
       "         [[397., 471., 201.,  ..., 203., 381., 295.],\n",
       "          [499.,  35., 263.,  ..., 371., 317., 337.],\n",
       "          [493., 215., 509.,  ..., 337.,  63., 333.],\n",
       "          ...,\n",
       "          [485., 289., 209.,  ..., 193., 497., 299.],\n",
       "          [369.,  65.,  81.,  ..., 247.,  75., 197.],\n",
       "          [ 67., 255., 303.,  ..., 271., 115.,  25.]],\n",
       "\n",
       "         [[131., 407., 259.,  ..., 157., 405., 507.],\n",
       "          [ 39.,  19., 507.,  ..., 425., 183., 511.],\n",
       "          [237., 287.,  85.,  ..., 377., 427., 417.],\n",
       "          ...,\n",
       "          [321.,  47., 207.,  ..., 297., 131., 455.],\n",
       "          [509., 229., 439.,  ..., 319., 423., 469.],\n",
       "          [ 41., 421., 167.,  ..., 103., 339., 329.]]],\n",
       "\n",
       "\n",
       "        ...,\n",
       "\n",
       "\n",
       "        [[[337., 473., 143.,  ..., 509., 127., 407.],\n",
       "          [491., 305., 431.,  ...,  97.,  33., 361.],\n",
       "          [ 55., 391., 371.,  ..., 363.,  73., 453.],\n",
       "          ...,\n",
       "          [357., 381., 345.,  ..., 511., 221., 127.],\n",
       "          [221., 127., 205.,  ..., 361., 277., 355.],\n",
       "          [129., 505., 445.,  ..., 343., 451., 419.]],\n",
       "\n",
       "         [[459., 159., 393.,  ..., 253., 371., 159.],\n",
       "          [291., 209., 323.,  ..., 259., 507., 123.],\n",
       "          [433.,  31.,  63.,  ...,  97., 325., 209.],\n",
       "          ...,\n",
       "          [ 69., 365., 131.,  ..., 273., 151., 511.],\n",
       "          [283., 191., 379.,  ..., 463.,  21., 369.],\n",
       "          [423., 141., 481.,  ..., 425., 461., 467.]],\n",
       "\n",
       "         [[113., 135.,   7.,  ..., 367., 445., 337.],\n",
       "          [203., 319., 201.,  ...,  13., 441., 449.],\n",
       "          [209., 199., 273.,  ...,  29., 335., 257.],\n",
       "          ...,\n",
       "          [ 57., 253., 419.,  ..., 159.,  47.,  55.],\n",
       "          [489., 405., 461.,  ..., 175., 129.,  27.],\n",
       "          [169., 127.,  17.,  ..., 437., 111., 391.]]],\n",
       "\n",
       "\n",
       "        [[[399., 435., 363.,  ..., 161., 169.,  93.],\n",
       "          [457., 489., 325.,  ..., 135., 267., 357.],\n",
       "          [333., 399., 515.,  ..., 185., 481., 481.],\n",
       "          ...,\n",
       "          [105., 503., 213.,  ..., 177., 253.,  31.],\n",
       "          [397., 391., 373.,  ..., 277., 441., 331.],\n",
       "          [ 13., 483., 215.,  ...,  51., 207., 347.]],\n",
       "\n",
       "         [[ 83., 419., 493.,  ..., 299., 177.,  49.],\n",
       "          [393., 443., 475.,  ..., 135., 267., 471.],\n",
       "          [295.,  21., 481.,  ..., 301., 385., 229.],\n",
       "          ...,\n",
       "          [149., 219., 217.,  ..., 407., 357., 109.],\n",
       "          [461., 487., 133.,  ..., 407., 175., 239.],\n",
       "          [405., 455., 115.,  ..., 327., 121., 363.]],\n",
       "\n",
       "         [[361., 417., 417.,  ..., 335., 475., 413.],\n",
       "          [355., 131., 145.,  ...,  51., 207., 139.],\n",
       "          [275., 233., 449.,  ..., 247., 347., 245.],\n",
       "          ...,\n",
       "          [  9., 331., 249.,  ..., 143., 171., 505.],\n",
       "          [455., 317., 123.,  ..., 293., 219., 355.],\n",
       "          [389.,  33.,  23.,  ..., 345., 269., 423.]]],\n",
       "\n",
       "\n",
       "        [[[467., 287., 173.,  ..., 225., 257., 129.],\n",
       "          [423.,  55., 283.,  ...,  49.,  45.,  75.],\n",
       "          [495., 471., 411.,  ..., 425., 157.,  69.],\n",
       "          ...,\n",
       "          [459., 353., 461.,  ..., 345., 347.,  61.],\n",
       "          [357., 251.,  69.,  ..., 103., 461., 311.],\n",
       "          [ 11., 179., 325.,  ..., 175., 295., 507.]],\n",
       "\n",
       "         [[427., 201.,  83.,  ..., 439.,  45., 475.],\n",
       "          [363., 229., 337.,  ..., 387., 293., 193.],\n",
       "          [425.,  19., 305.,  ..., 213.,  91., 385.],\n",
       "          ...,\n",
       "          [403., 333., 375.,  ...,  73.,  25., 157.],\n",
       "          [209., 371., 397.,  ..., 325., 359., 213.],\n",
       "          [233., 411., 185.,  ..., 187.,  23., 269.]],\n",
       "\n",
       "         [[405., 457., 201.,  ..., 487., 227., 399.],\n",
       "          [471., 367.,   9.,  ..., 193.,  45.,  85.],\n",
       "          [ 45., 469., 323.,  ..., 255.,  55., 349.],\n",
       "          ...,\n",
       "          [ 89., 321., 211.,  ..., 497., 325., 191.],\n",
       "          [113., 291., 495.,  ..., 355., 111., 477.],\n",
       "          [277.,  49., 241.,  ...,  87., 143., 381.]]]])"
      ]
     },
     "execution_count": 12,
     "metadata": {},
     "output_type": "execute_result"
    }
   ],
   "source": [
    "images1"
   ]
  },
  {
   "cell_type": "markdown",
   "metadata": {},
   "source": [
    "# 제공하는 Transforms 사용"
   ]
  },
  {
   "cell_type": "code",
   "execution_count": 22,
   "metadata": {},
   "outputs": [],
   "source": [
    "class MyDataset(Dataset): #데이터를 변환\n",
    "    \n",
    "    def __init__(self, x_data, y_data, transform=None):\n",
    "        self.x_data = x_data\n",
    "        self.y_data = y_data\n",
    "        self.transform = transform\n",
    "        self.len = len(y_data)\n",
    "        \n",
    "    def __getitem__(self, index):\n",
    "        sample = self.x_data[index], self.y_data[index]\n",
    "        \n",
    "        if self.transform:\n",
    "            sample = self.transform(sample)\n",
    "            \n",
    "        return sample #numpy로 나감\n",
    "    \n",
    "    def __len__(self):\n",
    "        return self.len\n",
    "\n",
    "class MyTransform:\n",
    "    \n",
    "    def __call__(self, sample):\n",
    "        inputs, labels = sample\n",
    "        inputs = torch.FloatTensor(inputs)\n",
    "        inputs = inputs.permute(2,0,1)\n",
    "        labels = torch.LongTensor(labels)\n",
    "        \n",
    "        transf = tr.Compose([tr.ToPILImage(), tr.Resize(128), tr.ToTensor(), tr.Normalize((0.5, 0.5, 0.5), (0.5, 0.5, 0.5), (0.5, 0.5, 0.5))])\n",
    "        final_output = transf(inputs)\n",
    "        \n",
    "        return final_output, labels"
   ]
  },
  {
   "cell_type": "code",
   "execution_count": 23,
   "metadata": {},
   "outputs": [],
   "source": [
    "ds2 = MyDataset(train_images, train_labels, transform=MyTransform())\n",
    "train_loader2 = DataLoader(ds2, batch_size=10, shuffle=True)"
   ]
  },
  {
   "cell_type": "code",
   "execution_count": 24,
   "metadata": {},
   "outputs": [
    {
     "name": "stdout",
     "output_type": "stream",
     "text": [
      "<class 'torch.Tensor'> <class 'torch.Tensor'>\n"
     ]
    }
   ],
   "source": [
    "first_data = ds2[0]\n",
    "features, label = first_data\n",
    "print(type(features), type(labels))"
   ]
  },
  {
   "cell_type": "code",
   "execution_count": 25,
   "metadata": {},
   "outputs": [],
   "source": [
    "dataiter2 = iter(train_loader2)\n",
    "images2, labels2 = dataiter2.next()"
   ]
  },
  {
   "cell_type": "code",
   "execution_count": 26,
   "metadata": {},
   "outputs": [
    {
     "data": {
      "text/plain": [
       "torch.Size([10, 3, 128, 128])"
      ]
     },
     "execution_count": 26,
     "metadata": {},
     "output_type": "execute_result"
    }
   ],
   "source": [
    "images2.size()"
   ]
  },
  {
   "cell_type": "code",
   "execution_count": 27,
   "metadata": {},
   "outputs": [
    {
     "data": {
      "text/plain": [
       "tensor([[[[ 0.4667,  0.4667,  0.4431,  ..., -0.1216, -0.1216, -0.1216],\n",
       "          [ 0.4667,  0.4667,  0.4431,  ..., -0.1216, -0.1216, -0.1216],\n",
       "          [ 0.5137,  0.5137,  0.4902,  ..., -0.1373, -0.1529, -0.1529],\n",
       "          ...,\n",
       "          [-0.0353, -0.0353, -0.1373,  ..., -0.4196, -0.4510, -0.4510],\n",
       "          [-0.0510, -0.0510, -0.1608,  ..., -0.3647, -0.3882, -0.3882],\n",
       "          [-0.0510, -0.0510, -0.1608,  ..., -0.3647, -0.3882, -0.3882]],\n",
       "\n",
       "         [[-0.8510, -0.8510, -0.8431,  ..., -0.1608, -0.1137, -0.1137],\n",
       "          [-0.8510, -0.8510, -0.8431,  ..., -0.1608, -0.1137, -0.1137],\n",
       "          [-0.6392, -0.6392, -0.6392,  ..., -0.1294, -0.0902, -0.0902],\n",
       "          ...,\n",
       "          [ 0.1922,  0.1922,  0.0588,  ..., -0.4588, -0.5765, -0.5765],\n",
       "          [ 0.1059,  0.1059, -0.0196,  ..., -0.5137, -0.6392, -0.6392],\n",
       "          [ 0.1059,  0.1059, -0.0196,  ..., -0.5137, -0.6392, -0.6392]],\n",
       "\n",
       "         [[ 0.8196,  0.8196,  0.6235,  ...,  0.1137,  0.1373,  0.1373],\n",
       "          [ 0.8196,  0.8196,  0.6235,  ...,  0.1137,  0.1373,  0.1373],\n",
       "          [ 0.6235,  0.6235,  0.4510,  ...,  0.0745,  0.1059,  0.1059],\n",
       "          ...,\n",
       "          [-0.6549, -0.6549, -0.5059,  ..., -0.2314, -0.1686, -0.1686],\n",
       "          [-0.8431, -0.8431, -0.6627,  ..., -0.2549, -0.1922, -0.1922],\n",
       "          [-0.8431, -0.8431, -0.6627,  ..., -0.2549, -0.1922, -0.1922]]],\n",
       "\n",
       "\n",
       "        [[[-0.7255, -0.7255, -0.5608,  ...,  0.4275,  0.4588,  0.4588],\n",
       "          [-0.7255, -0.7255, -0.5608,  ...,  0.4275,  0.4588,  0.4588],\n",
       "          [-0.5137, -0.5137, -0.3961,  ...,  0.3804,  0.4118,  0.4118],\n",
       "          ...,\n",
       "          [ 0.3490,  0.3490,  0.2941,  ...,  0.1137,  0.0353,  0.0353],\n",
       "          [ 0.3804,  0.3804,  0.3176,  ...,  0.0431, -0.0588, -0.0588],\n",
       "          [ 0.3804,  0.3804,  0.3176,  ...,  0.0431, -0.0588, -0.0588]],\n",
       "\n",
       "         [[ 0.1137,  0.1137,  0.1373,  ...,  0.4431,  0.4275,  0.4275],\n",
       "          [ 0.1137,  0.1137,  0.1373,  ...,  0.4431,  0.4275,  0.4275],\n",
       "          [ 0.0431,  0.0431,  0.0588,  ...,  0.4431,  0.4510,  0.4510],\n",
       "          ...,\n",
       "          [-0.6235, -0.6235, -0.4667,  ...,  0.3333,  0.5059,  0.5059],\n",
       "          [-0.7647, -0.7647, -0.5922,  ...,  0.3804,  0.5765,  0.5765],\n",
       "          [-0.7647, -0.7647, -0.5922,  ...,  0.3804,  0.5765,  0.5765]],\n",
       "\n",
       "         [[ 0.1686,  0.1686,  0.0353,  ..., -0.1686, -0.1451, -0.1451],\n",
       "          [ 0.1686,  0.1686,  0.0353,  ..., -0.1686, -0.1451, -0.1451],\n",
       "          [ 0.0431,  0.0431, -0.0667,  ..., -0.2235, -0.2078, -0.2078],\n",
       "          ...,\n",
       "          [ 0.2078,  0.2078,  0.2157,  ..., -0.0196,  0.0431,  0.0431],\n",
       "          [ 0.1294,  0.1294,  0.1451,  ...,  0.0745,  0.1529,  0.1529],\n",
       "          [ 0.1294,  0.1294,  0.1451,  ...,  0.0745,  0.1529,  0.1529]]],\n",
       "\n",
       "\n",
       "        [[[-0.0039, -0.0039, -0.0510,  ...,  0.1529,  0.2941,  0.2941],\n",
       "          [-0.0039, -0.0039, -0.0510,  ...,  0.1529,  0.2941,  0.2941],\n",
       "          [ 0.0510,  0.0510,  0.0039,  ...,  0.0980,  0.2078,  0.2078],\n",
       "          ...,\n",
       "          [-0.3725, -0.3725, -0.3412,  ..., -0.2392, -0.2078, -0.2078],\n",
       "          [-0.3569, -0.3569, -0.3255,  ..., -0.3020, -0.2627, -0.2627],\n",
       "          [-0.3569, -0.3569, -0.3255,  ..., -0.3020, -0.2627, -0.2627]],\n",
       "\n",
       "         [[-0.8902, -0.8902, -0.6627,  ...,  0.4588,  0.3882,  0.3882],\n",
       "          [-0.8902, -0.8902, -0.6627,  ...,  0.4588,  0.3882,  0.3882],\n",
       "          [-0.7333, -0.7333, -0.5373,  ...,  0.3725,  0.3176,  0.3176],\n",
       "          ...,\n",
       "          [-0.7176, -0.7176, -0.5686,  ...,  0.7333,  0.8980,  0.8980],\n",
       "          [-0.8431, -0.8431, -0.6784,  ...,  0.7725,  0.9686,  0.9686],\n",
       "          [-0.8431, -0.8431, -0.6784,  ...,  0.7725,  0.9686,  0.9686]],\n",
       "\n",
       "         [[ 0.3882,  0.3882,  0.4196,  ..., -0.6392, -0.6392, -0.6392],\n",
       "          [ 0.3882,  0.3882,  0.4196,  ..., -0.6392, -0.6392, -0.6392],\n",
       "          [ 0.3804,  0.3804,  0.4196,  ..., -0.5686, -0.5765, -0.5765],\n",
       "          ...,\n",
       "          [-0.5059, -0.5059, -0.4431,  ...,  0.1373,  0.2706,  0.2706],\n",
       "          [-0.6549, -0.6549, -0.5608,  ...,  0.0824,  0.2235,  0.2235],\n",
       "          [-0.6549, -0.6549, -0.5608,  ...,  0.0824,  0.2235,  0.2235]]],\n",
       "\n",
       "\n",
       "        ...,\n",
       "\n",
       "\n",
       "        [[[-0.8118, -0.8118, -0.7098,  ...,  0.2314,  0.3333,  0.3333],\n",
       "          [-0.8118, -0.8118, -0.7098,  ...,  0.2314,  0.3333,  0.3333],\n",
       "          [-0.5922, -0.5922, -0.5059,  ...,  0.3020,  0.3882,  0.3882],\n",
       "          ...,\n",
       "          [-0.0667, -0.0667,  0.0118,  ...,  0.6392,  0.6627,  0.6627],\n",
       "          [-0.1294, -0.1294, -0.0275,  ...,  0.7647,  0.8118,  0.8118],\n",
       "          [-0.1294, -0.1294, -0.0275,  ...,  0.7647,  0.8118,  0.8118]],\n",
       "\n",
       "         [[-0.2157, -0.2157, -0.0902,  ...,  0.8510,  0.8588,  0.8588],\n",
       "          [-0.2157, -0.2157, -0.0902,  ...,  0.8510,  0.8588,  0.8588],\n",
       "          [-0.2078, -0.2078, -0.0824,  ...,  0.8275,  0.8431,  0.8431],\n",
       "          ...,\n",
       "          [ 0.0510,  0.0510,  0.1216,  ..., -0.6000, -0.6392, -0.6392],\n",
       "          [ 0.2000,  0.2000,  0.2784,  ..., -0.7647, -0.8353, -0.8353],\n",
       "          [ 0.2000,  0.2000,  0.2784,  ..., -0.7647, -0.8353, -0.8353]],\n",
       "\n",
       "         [[-0.7961, -0.7961, -0.6627,  ...,  0.8196,  0.9686,  0.9686],\n",
       "          [-0.7961, -0.7961, -0.6627,  ...,  0.8196,  0.9686,  0.9686],\n",
       "          [-0.8118, -0.8118, -0.6706,  ...,  0.7098,  0.8510,  0.8510],\n",
       "          ...,\n",
       "          [-0.7725, -0.7725, -0.7490,  ..., -0.7490, -0.8431, -0.8431],\n",
       "          [-0.9137, -0.9137, -0.8980,  ..., -0.7412, -0.8431, -0.8431],\n",
       "          [-0.9137, -0.9137, -0.8980,  ..., -0.7412, -0.8431, -0.8431]]],\n",
       "\n",
       "\n",
       "        [[[ 0.9451,  0.9451,  0.8275,  ..., -0.0588, -0.1922, -0.1922],\n",
       "          [ 0.9451,  0.9451,  0.8275,  ..., -0.0588, -0.1922, -0.1922],\n",
       "          [ 0.8824,  0.8824,  0.7804,  ..., -0.0902, -0.2078, -0.2078],\n",
       "          ...,\n",
       "          [-0.2235, -0.2235, -0.0980,  ...,  0.2314,  0.3725,  0.3725],\n",
       "          [-0.1765, -0.1765, -0.0275,  ...,  0.3569,  0.5373,  0.5373],\n",
       "          [-0.1765, -0.1765, -0.0275,  ...,  0.3569,  0.5373,  0.5373]],\n",
       "\n",
       "         [[ 0.1843,  0.1843,  0.2078,  ...,  0.4275,  0.6235,  0.6235],\n",
       "          [ 0.1843,  0.1843,  0.2078,  ...,  0.4275,  0.6235,  0.6235],\n",
       "          [ 0.1608,  0.1608,  0.1686,  ...,  0.3961,  0.5843,  0.5843],\n",
       "          ...,\n",
       "          [ 0.7725,  0.7725,  0.7333,  ...,  0.2471,  0.2078,  0.2078],\n",
       "          [ 0.7647,  0.7647,  0.7412,  ...,  0.1765,  0.1137,  0.1137],\n",
       "          [ 0.7647,  0.7647,  0.7412,  ...,  0.1765,  0.1137,  0.1137]],\n",
       "\n",
       "         [[ 0.0353,  0.0353, -0.0667,  ..., -0.9843, -0.9922, -0.9922],\n",
       "          [ 0.0353,  0.0353, -0.0667,  ..., -0.9843, -0.9922, -0.9922],\n",
       "          [-0.0745, -0.0745, -0.1373,  ..., -0.8824, -0.9059, -0.9059],\n",
       "          ...,\n",
       "          [ 0.1294,  0.1294,  0.1216,  ...,  0.7333,  0.7882,  0.7882],\n",
       "          [ 0.1373,  0.1373,  0.1137,  ...,  0.7725,  0.8353,  0.8353],\n",
       "          [ 0.1373,  0.1373,  0.1137,  ...,  0.7725,  0.8353,  0.8353]]],\n",
       "\n",
       "\n",
       "        [[[ 0.9294,  0.9294,  0.9216,  ...,  0.6863,  0.7412,  0.7412],\n",
       "          [ 0.9294,  0.9294,  0.9216,  ...,  0.6863,  0.7412,  0.7412],\n",
       "          [ 0.7961,  0.7961,  0.8039,  ...,  0.6784,  0.7333,  0.7333],\n",
       "          ...,\n",
       "          [-0.5529, -0.5529, -0.4431,  ..., -0.3961, -0.4588, -0.4588],\n",
       "          [-0.5451, -0.5451, -0.4118,  ..., -0.4353, -0.4824, -0.4824],\n",
       "          [-0.5451, -0.5451, -0.4118,  ..., -0.4353, -0.4824, -0.4824]],\n",
       "\n",
       "         [[ 0.1373,  0.1373,  0.0275,  ...,  0.2941,  0.4118,  0.4118],\n",
       "          [ 0.1373,  0.1373,  0.0275,  ...,  0.2941,  0.4118,  0.4118],\n",
       "          [ 0.0431,  0.0431, -0.0353,  ...,  0.3020,  0.4118,  0.4118],\n",
       "          ...,\n",
       "          [ 0.1373,  0.1373,  0.1608,  ..., -0.0275,  0.0667,  0.0667],\n",
       "          [ 0.1137,  0.1137,  0.1451,  ..., -0.1451, -0.0667, -0.0667],\n",
       "          [ 0.1137,  0.1137,  0.1451,  ..., -0.1451, -0.0667, -0.0667]],\n",
       "\n",
       "         [[-0.6392, -0.6392, -0.5059,  ..., -0.2549, -0.2000, -0.2000],\n",
       "          [-0.6392, -0.6392, -0.5059,  ..., -0.2549, -0.2000, -0.2000],\n",
       "          [-0.4588, -0.4588, -0.3412,  ..., -0.2078, -0.1608, -0.1608],\n",
       "          ...,\n",
       "          [-0.1137, -0.1137, -0.1608,  ...,  0.7412,  0.8588,  0.8588],\n",
       "          [-0.0039, -0.0039, -0.0745,  ...,  0.7412,  0.8431,  0.8431],\n",
       "          [-0.0039, -0.0039, -0.0745,  ...,  0.7412,  0.8431,  0.8431]]]])"
      ]
     },
     "execution_count": 27,
     "metadata": {},
     "output_type": "execute_result"
    }
   ],
   "source": [
    "images2"
   ]
  },
  {
   "cell_type": "code",
   "execution_count": null,
   "metadata": {},
   "outputs": [],
   "source": []
  }
 ],
 "metadata": {
  "kernelspec": {
   "display_name": "gpu1",
   "language": "python",
   "name": "gpu"
  },
  "language_info": {
   "codemirror_mode": {
    "name": "ipython",
    "version": 3
   },
   "file_extension": ".py",
   "mimetype": "text/x-python",
   "name": "python",
   "nbconvert_exporter": "python",
   "pygments_lexer": "ipython3",
   "version": "3.7.7"
  }
 },
 "nbformat": 4,
 "nbformat_minor": 2
}
